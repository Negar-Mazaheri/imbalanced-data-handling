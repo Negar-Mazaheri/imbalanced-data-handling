{
  "nbformat": 4,
  "nbformat_minor": 0,
  "metadata": {
    "colab": {
      "provenance": []
    },
    "kernelspec": {
      "name": "python3",
      "display_name": "Python 3"
    },
    "language_info": {
      "name": "python"
    }
  },
  "cells": [
    {
      "cell_type": "markdown",
      "source": [
        "Importing Necessery Libraries"
      ],
      "metadata": {
        "id": "U6mb5O2u7UhH"
      }
    },
    {
      "cell_type": "code",
      "source": [
        "import pandas as pd\n",
        "import numpy as np\n",
        "import matplotlib.pyplot as plt\n",
        "import seaborn as sns\n",
        "from sklearn.preprocessing import StandardScaler, LabelEncoder\n",
        "from sklearn.model_selection import train_test_split\n",
        "from sklearn.metrics import precision_score, recall_score, f1_score, roc_auc_score\n",
        "from imblearn.metrics import geometric_mean_score\n",
        "from sklearn.metrics import classification_report, confusion_matrix\n",
        "from imblearn.under_sampling import EditedNearestNeighbours\n",
        "from imblearn.over_sampling import SMOTE\n",
        "from imblearn.combine import SMOTEENN\n",
        "from sklearn.linear_model import LogisticRegression\n",
        "\n"
      ],
      "metadata": {
        "id": "55XaWjy8SDYX"
      },
      "execution_count": null,
      "outputs": []
    },
    {
      "cell_type": "markdown",
      "source": [
        "Loading the DataSet"
      ],
      "metadata": {
        "id": "2lS3MErb7eiQ"
      }
    },
    {
      "cell_type": "code",
      "source": [
        "df = pd.read_csv(\"Lung_Cancer_Dataset.csv\")"
      ],
      "metadata": {
        "id": "P4uX48DREom8"
      },
      "execution_count": null,
      "outputs": []
    },
    {
      "cell_type": "code",
      "source": [
        "df.head()"
      ],
      "metadata": {
        "id": "Fb0cOuftSMIG"
      },
      "execution_count": null,
      "outputs": []
    },
    {
      "cell_type": "code",
      "source": [
        "df.info()"
      ],
      "metadata": {
        "id": "ppWEQ1T5z03p"
      },
      "execution_count": null,
      "outputs": []
    },
    {
      "cell_type": "code",
      "source": [
        "le = LabelEncoder()\n",
        "df[\"LUNG_CANCER\"] = le.fit_transform(df[\"LUNG_CANCER\"])"
      ],
      "metadata": {
        "id": "XwawcSY473N3"
      },
      "execution_count": null,
      "outputs": []
    },
    {
      "cell_type": "code",
      "source": [
        "le = LabelEncoder()\n",
        "df[\"GENDER\"] = le.fit_transform(df[\"GENDER\"])"
      ],
      "metadata": {
        "id": "eyofyYiyGO0N"
      },
      "execution_count": null,
      "outputs": []
    },
    {
      "cell_type": "code",
      "source": [
        "df.head()"
      ],
      "metadata": {
        "id": "GJvp9g8K79Iu"
      },
      "execution_count": null,
      "outputs": []
    },
    {
      "cell_type": "markdown",
      "source": [
        "Checking Data is imbalanced"
      ],
      "metadata": {
        "id": "Fhd8Avh37itb"
      }
    },
    {
      "source": [
        "sns.barplot (x=df['LUNG_CANCER'].value_counts().index, y=df['LUNG_CANCER'].value_counts().values)\n",
        "class_counts = df['LUNG_CANCER'].value_counts()\n",
        "class_percentages = (class_counts / len(df)) * 100\n",
        "print(class_percentages)"
      ],
      "cell_type": "code",
      "metadata": {
        "id": "dmlBvhkO4whz"
      },
      "execution_count": null,
      "outputs": []
    },
    {
      "cell_type": "code",
      "source": [
        "X = df.drop(\"LUNG_CANCER\", axis=1)\n",
        "y = df[\"LUNG_CANCER\"]"
      ],
      "metadata": {
        "id": "0JIiK3AXShvf"
      },
      "execution_count": null,
      "outputs": []
    },
    {
      "cell_type": "code",
      "source": [
        "def evaluate_model(y_true, y_pred, y_proba):\n",
        "        print(f\"Precision = {precision_score(y_true, y_pred)} \")\n",
        "        print(f\"Recall = {recall_score(y_true, y_pred)} \")\n",
        "        print(f\"F1-score = {f1_score(y_true, y_pred)} \")\n",
        "        print(f\"ROC AUC = {roc_auc_score(y_true, y_proba)} \")\n",
        "        print(f\"G-Mean = {geometric_mean_score(y_true, y_pred, average='binary')} \")\n",
        "        return\n"
      ],
      "metadata": {
        "id": "GE_pacCLbg_8"
      },
      "execution_count": null,
      "outputs": []
    },
    {
      "cell_type": "code",
      "source": [
        "def plot_confusion_matrix(cf_matrix):\n",
        "    group_names = ['True Neg', 'False Pos', 'False Neg', 'True Pos']\n",
        "    group_counts = [\"{0:0.0f}\".format(value) for value in cf_matrix.flatten()]\n",
        "    group_percentages = [\"{0:.2%}\".format(value) for value in cf_matrix.flatten() / np.sum(cf_matrix)]\n",
        "\n",
        "    labels = [f\"{v1}\\n{v2}\\n{v3}\" for v1, v2, v3 in zip(group_names, group_counts, group_percentages)]\n",
        "    labels = np.asarray(labels).reshape(2, 2)\n",
        "\n",
        "    plt.figure(figsize=(5, 4))\n",
        "    sns.heatmap(cf_matrix, annot=labels, fmt='', cmap='Blues', cbar=False)\n",
        "    plt.title(\"Confusion Matrix\")\n",
        "    plt.xlabel(\"Predicted\")\n",
        "    plt.ylabel(\"Actual\")\n",
        "    plt.show()\n"
      ],
      "metadata": {
        "id": "0r5_yWTHdMab"
      },
      "execution_count": null,
      "outputs": []
    },
    {
      "cell_type": "markdown",
      "source": [
        "## **Oversampling**"
      ],
      "metadata": {
        "id": "TEQr88D97rVc"
      }
    },
    {
      "cell_type": "code",
      "source": [
        "smote = SMOTE(random_state=42)\n",
        "X_resampled, y_resampled = smote.fit_resample(X, y)"
      ],
      "metadata": {
        "id": "My5c99gQVE5k"
      },
      "execution_count": null,
      "outputs": []
    },
    {
      "cell_type": "code",
      "source": [
        "print(y.value_counts())\n",
        "print(y_resampled.value_counts())"
      ],
      "metadata": {
        "id": "HgqZ1i9p2UPy"
      },
      "execution_count": null,
      "outputs": []
    },
    {
      "cell_type": "code",
      "source": [
        "X_train, X_test, y_train, y_test = train_test_split(X_resampled, y_resampled, test_size=0.3, random_state=42)"
      ],
      "metadata": {
        "id": "dVTc-WMLWeMv"
      },
      "execution_count": null,
      "outputs": []
    },
    {
      "cell_type": "code",
      "source": [
        "scaler = StandardScaler()\n",
        "X_train_scaled = scaler.fit_transform(X_train)\n",
        "X_test_scaled = scaler.transform(X_test)"
      ],
      "metadata": {
        "id": "89ZA3B59U7za"
      },
      "execution_count": null,
      "outputs": []
    },
    {
      "cell_type": "code",
      "source": [
        "clf = LogisticRegression(random_state=101)"
      ],
      "metadata": {
        "id": "lfKkraDsVC2m"
      },
      "execution_count": null,
      "outputs": []
    },
    {
      "cell_type": "code",
      "source": [
        "clf.fit(X_train_scaled, y_train)"
      ],
      "metadata": {
        "id": "9J1Mi5EdVGnD"
      },
      "execution_count": null,
      "outputs": []
    },
    {
      "cell_type": "code",
      "source": [
        "y_pred = clf.predict(X_test_scaled)\n",
        "y_probs = clf.predict_proba(X_test_scaled)[:, 1]"
      ],
      "metadata": {
        "id": "3hRRofL-VNAs"
      },
      "execution_count": null,
      "outputs": []
    },
    {
      "cell_type": "code",
      "source": [
        "evaluate_model(y_test, y_pred, y_probs)"
      ],
      "metadata": {
        "id": "o6WwNGUMbmU5"
      },
      "execution_count": null,
      "outputs": []
    },
    {
      "cell_type": "code",
      "source": [
        "cf_matrix = confusion_matrix(y_test, y_pred)"
      ],
      "metadata": {
        "id": "wBUYAT_FdgZr"
      },
      "execution_count": null,
      "outputs": []
    },
    {
      "cell_type": "code",
      "source": [
        "plot_confusion_matrix(cf_matrix)"
      ],
      "metadata": {
        "id": "RsBpp8L3dj0M"
      },
      "execution_count": null,
      "outputs": []
    },
    {
      "cell_type": "markdown",
      "source": [
        "## **Undersampling**"
      ],
      "metadata": {
        "id": "oCxa8Gip7wvG"
      }
    },
    {
      "cell_type": "code",
      "source": [
        "enn = EditedNearestNeighbours()\n",
        "X_enn, y_enn = enn.fit_resample(X, y)"
      ],
      "metadata": {
        "id": "DUIBdVscZIta"
      },
      "execution_count": null,
      "outputs": []
    },
    {
      "cell_type": "code",
      "source": [
        "print(y.value_counts())\n",
        "print(y_enn.value_counts())"
      ],
      "metadata": {
        "id": "FG2mKHGQabRn"
      },
      "execution_count": null,
      "outputs": []
    },
    {
      "cell_type": "code",
      "source": [
        "X_train, X_test, y_train, y_test = train_test_split(X_enn, y_enn, test_size=0.3, random_state=42)"
      ],
      "metadata": {
        "id": "WhCA_fiBbDfA"
      },
      "execution_count": null,
      "outputs": []
    },
    {
      "cell_type": "code",
      "source": [
        "scaler = StandardScaler()\n",
        "X_train_scaled = scaler.fit_transform(X_train)\n",
        "X_test_scaled = scaler.transform(X_test)"
      ],
      "metadata": {
        "id": "s8vOLar0bQ5N"
      },
      "execution_count": null,
      "outputs": []
    },
    {
      "cell_type": "code",
      "source": [
        "clf1 = LogisticRegression(random_state=101)\n",
        "clf1.fit(X_train_scaled, y_train)"
      ],
      "metadata": {
        "id": "t9CYVC3PdlTS"
      },
      "execution_count": null,
      "outputs": []
    },
    {
      "cell_type": "code",
      "source": [
        "y_pred = clf1.predict(X_test_scaled)\n",
        "y_probs = clf1.predict_proba(X_test_scaled)[:, 1]"
      ],
      "metadata": {
        "id": "22YiVTB1d6KZ"
      },
      "execution_count": null,
      "outputs": []
    },
    {
      "cell_type": "code",
      "source": [
        "evaluate_model(y_test, y_pred, y_probs)"
      ],
      "metadata": {
        "id": "hVWG523PBxKL"
      },
      "execution_count": null,
      "outputs": []
    },
    {
      "cell_type": "code",
      "source": [
        "cf_matrix = confusion_matrix(y_test, y_pred)\n",
        "plot_confusion_matrix(cf_matrix)"
      ],
      "metadata": {
        "id": "d78bKVZRd-vh"
      },
      "execution_count": null,
      "outputs": []
    },
    {
      "cell_type": "markdown",
      "source": [
        "## **Ensamble Method**"
      ],
      "metadata": {
        "id": "sYLKec5k79hC"
      }
    },
    {
      "cell_type": "code",
      "source": [
        "from sklearn.ensemble import AdaBoostClassifier"
      ],
      "metadata": {
        "id": "MFjeW8kUWM7w"
      },
      "execution_count": null,
      "outputs": []
    },
    {
      "cell_type": "code",
      "source": [
        "X_train, X_test, y_train, y_test = train_test_split(X, y, test_size=0.3, random_state=42)"
      ],
      "metadata": {
        "id": "U9xV8hQNrp3E"
      },
      "execution_count": null,
      "outputs": []
    },
    {
      "cell_type": "code",
      "source": [
        "scaler = StandardScaler()\n",
        "X_train_scaled = scaler.fit_transform(X_train)\n",
        "X_test_scaled = scaler.transform(X_test)"
      ],
      "metadata": {
        "id": "EKQZS5jHrtyC"
      },
      "execution_count": null,
      "outputs": []
    },
    {
      "cell_type": "code",
      "source": [
        "ada = AdaBoostClassifier(random_state=42)\n",
        "ada.fit(X_train_scaled, y_train)"
      ],
      "metadata": {
        "id": "E0kw_Gv_WSGD"
      },
      "execution_count": null,
      "outputs": []
    },
    {
      "cell_type": "code",
      "source": [
        "ada_pred = ada.predict(X_test_scaled)\n",
        "ada_probs = ada.predict_proba(X_test_scaled)[:, 1]"
      ],
      "metadata": {
        "id": "137aNuAqWb8V"
      },
      "execution_count": null,
      "outputs": []
    },
    {
      "cell_type": "code",
      "source": [
        "evaluate_model(y_test, ada_pred, ada_probs)"
      ],
      "metadata": {
        "id": "6KQ4hGD7FcZ4"
      },
      "execution_count": null,
      "outputs": []
    },
    {
      "cell_type": "code",
      "source": [
        "cf_ada = confusion_matrix(y_test, ada_pred)\n",
        "plot_confusion_matrix(cf_ada)"
      ],
      "metadata": {
        "id": "ilaiypDtWlDL"
      },
      "execution_count": null,
      "outputs": []
    },
    {
      "cell_type": "markdown",
      "source": [
        "## **Threshold Moving**"
      ],
      "metadata": {
        "id": "ZtakJShKRtsI"
      }
    },
    {
      "cell_type": "code",
      "source": [
        "X_train, X_test, y_train, y_test = train_test_split(X, y, test_size=0.3, random_state=42)"
      ],
      "metadata": {
        "id": "wwi7BiHUfGMs"
      },
      "execution_count": null,
      "outputs": []
    },
    {
      "cell_type": "code",
      "source": [
        "scaler = StandardScaler()\n",
        "X_train_scaled = scaler.fit_transform(X_train)\n",
        "X_test_scaled = scaler.transform(X_test)"
      ],
      "metadata": {
        "id": "DW5X7ygVfVwm"
      },
      "execution_count": null,
      "outputs": []
    },
    {
      "cell_type": "code",
      "source": [
        "clf3 = LogisticRegression(random_state=101)\n",
        "clf3.fit(X_train_scaled, y_train)\n"
      ],
      "metadata": {
        "id": "Qpuj2zfgfZnO"
      },
      "execution_count": null,
      "outputs": []
    },
    {
      "cell_type": "code",
      "source": [
        "def find_best_threshold(y_test, y_probs):\n",
        "    thresholds = np.linspace(0, 1, 1000)\n",
        "    best_f1 = -1\n",
        "    best_threshold = 0.0\n",
        "\n",
        "    for thresh in thresholds:\n",
        "        y_pred = (y_probs >= thresh).astype(int)\n",
        "        precision = precision_score(y_test, y_pred, zero_division=0)\n",
        "        recall = recall_score(y_test, y_pred, zero_division=0)\n",
        "\n",
        "        if (precision + recall) == 0:\n",
        "            f1 = 0\n",
        "        else:\n",
        "            f1 = 2 * (precision * recall) / (precision + recall)\n",
        "\n",
        "        if (f1 > best_f1):\n",
        "            best_f1 = f1\n",
        "            best_threshold = thresh\n",
        "\n",
        "    return best_threshold, best_f1"
      ],
      "metadata": {
        "id": "nSA98K5Of2LN"
      },
      "execution_count": null,
      "outputs": []
    },
    {
      "cell_type": "code",
      "source": [
        "y_probs = clf3.predict_proba(X_test_scaled)[:,1]"
      ],
      "metadata": {
        "id": "DIEWq6Pdfjlh"
      },
      "execution_count": null,
      "outputs": []
    },
    {
      "cell_type": "code",
      "source": [
        "best_thrsh = find_best_threshold(y_test, y_probs)"
      ],
      "metadata": {
        "id": "qAnz08nkJJq1"
      },
      "execution_count": null,
      "outputs": []
    },
    {
      "cell_type": "code",
      "source": [
        "y_pred_final = (y_probs >= best_thrsh[0]).astype(int)"
      ],
      "metadata": {
        "id": "zAsj7tVTt-en"
      },
      "execution_count": null,
      "outputs": []
    },
    {
      "cell_type": "code",
      "source": [
        "evaluate_model(y_test, y_pred_final, y_probs)"
      ],
      "metadata": {
        "id": "zfboRU7oehbv"
      },
      "execution_count": null,
      "outputs": []
    },
    {
      "cell_type": "code",
      "source": [
        "cf_matrix = confusion_matrix(y_test, y_pred_final)\n",
        "plot_confusion_matrix(cf_matrix)"
      ],
      "metadata": {
        "id": "02E_5uGOikxU"
      },
      "execution_count": null,
      "outputs": []
    },
    {
      "cell_type": "code",
      "source": [
        "find_best_threshold(y_test, y_probs)"
      ],
      "metadata": {
        "id": "UOCimedYyep8"
      },
      "execution_count": null,
      "outputs": []
    },
    {
      "cell_type": "markdown",
      "source": [
        "## **Combining Sampling and Threshold Moving**"
      ],
      "metadata": {
        "id": "fjSuo3-PvNU2"
      }
    },
    {
      "cell_type": "code",
      "source": [
        "smote_enn = SMOTEENN(random_state=42)\n",
        "X_senn, y_senn = smote_enn.fit_resample(X, y)"
      ],
      "metadata": {
        "id": "jxemjjM6vMSn"
      },
      "execution_count": null,
      "outputs": []
    },
    {
      "cell_type": "code",
      "source": [
        "X_train, X_test, y_train, y_test = train_test_split(X_senn, y_senn, test_size=0.3, random_state=42)\n",
        "scaler = StandardScaler()\n",
        "X_train_scaled = scaler.fit_transform(X_train)\n",
        "X_test_scaled = scaler.transform(X_test)"
      ],
      "metadata": {
        "id": "KsMsVpMpvf7_"
      },
      "execution_count": null,
      "outputs": []
    },
    {
      "cell_type": "code",
      "source": [
        "clf4 = LogisticRegression(random_state=101)\n",
        "clf4.fit(X_train_scaled, y_train)"
      ],
      "metadata": {
        "id": "vokoudzbvjLB"
      },
      "execution_count": null,
      "outputs": []
    },
    {
      "cell_type": "code",
      "source": [
        "y_probs1 = clf4.predict_proba(X_test_scaled)[:,1]"
      ],
      "metadata": {
        "id": "6ZqmoAL5voVy"
      },
      "execution_count": null,
      "outputs": []
    },
    {
      "cell_type": "code",
      "source": [
        "best_thresh = find_best_threshold(y_test, y_probs1)"
      ],
      "metadata": {
        "id": "WbwN9zPty9aH"
      },
      "execution_count": null,
      "outputs": []
    },
    {
      "cell_type": "code",
      "source": [
        "y_pred = (y_probs1 >= best_thresh[0]).astype(int)"
      ],
      "metadata": {
        "id": "5_LtPoWXwEhW"
      },
      "execution_count": null,
      "outputs": []
    },
    {
      "cell_type": "code",
      "source": [
        "evaluate_model(y_test, y_pred, y_probs1)"
      ],
      "metadata": {
        "id": "Cz5_XM0uzQ2y"
      },
      "execution_count": null,
      "outputs": []
    },
    {
      "cell_type": "code",
      "source": [
        "cf_matrix = confusion_matrix(y_test, y_pred)\n",
        "plot_confusion_matrix(cf_matrix)"
      ],
      "metadata": {
        "id": "zBWOwYzMwKQK"
      },
      "execution_count": null,
      "outputs": []
    },
    {
      "cell_type": "markdown",
      "source": [
        "## **BaseLine Model**"
      ],
      "metadata": {
        "id": "RTfUWga2wVCL"
      }
    },
    {
      "cell_type": "code",
      "source": [
        "X_train, X_test, y_train, y_test = train_test_split(X, y, test_size=0.3, random_state=42)"
      ],
      "metadata": {
        "id": "qXXYsObgwT25"
      },
      "execution_count": null,
      "outputs": []
    },
    {
      "cell_type": "code",
      "source": [
        "scaler = StandardScaler()\n",
        "X_train_scaled = scaler.fit_transform(X_train)\n",
        "X_test_scaled = scaler.transform(X_test)"
      ],
      "metadata": {
        "id": "QHppdiXwxTFI"
      },
      "execution_count": null,
      "outputs": []
    },
    {
      "cell_type": "code",
      "source": [
        "clf5 = LogisticRegression(random_state=101)\n",
        "clf5.fit(X_train, y_train)"
      ],
      "metadata": {
        "id": "l8Qc8Fs8xUO9"
      },
      "execution_count": null,
      "outputs": []
    },
    {
      "cell_type": "code",
      "source": [
        "y_pred = clf5.predict(X_test)\n",
        "y_probs = clf5.predict_proba(X_test_scaled)[:, 1]"
      ],
      "metadata": {
        "id": "bP2iwOIjxgCC"
      },
      "execution_count": null,
      "outputs": []
    },
    {
      "cell_type": "code",
      "source": [
        "evaluate_model(y_test, y_pred, y_probs)"
      ],
      "metadata": {
        "id": "4-hYS84aQ2nL"
      },
      "execution_count": null,
      "outputs": []
    },
    {
      "cell_type": "code",
      "source": [
        "from sklearn.metrics import confusion_matrix\n",
        "cf_matrix = confusion_matrix(y_test, y_pred)\n",
        "plot_confusion_matrix(cf_matrix)"
      ],
      "metadata": {
        "id": "Tq2Wc_mWxoFc"
      },
      "execution_count": null,
      "outputs": []
    },
    {
      "cell_type": "code",
      "source": [
        "results = {\n",
        "    \"Method\": [\"Baseline\", \"Oversampling\", \"Undersampling\", \"Threshold Moving\", \"AdaBoost\", \"Combination\"],\n",
        "    \"G\": [ 0.845, 0.956, 0.892, 0.845, 0.965, 0.993]\n",
        "}\n",
        "\n",
        "df = pd.DataFrame(results)\n",
        "\n",
        "plt.figure(figsize=(7, 5))\n",
        "\n",
        "sns.lineplot(x=\"Method\", y=\"G\", data=df, marker=\"o\", color=\"b\", linewidth=2, markersize=8)\n",
        "\n",
        "plt.xticks(rotation=30, ha='right', fontsize=10)\n",
        "plt.title(\"G-mean Comparison\")\n",
        "plt.xlabel(\"Method\")\n",
        "plt.ylabel(\"G-mean\")\n",
        "plt.ylim(0.82, 1.03)\n",
        "\n",
        "plt.grid(True ,linestyle='--')\n",
        "plt.tight_layout()\n",
        "plt.show()"
      ],
      "metadata": {
        "id": "yR4BCwiGTIYx"
      },
      "execution_count": null,
      "outputs": []
    }
  ]
}